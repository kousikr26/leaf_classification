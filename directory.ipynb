{
 "cells": [
  {
   "cell_type": "markdown",
   "metadata": {},
   "source": [
    "### This is the code for extraction images form each subdirectory and evaluating the model\n",
    "#### A similar code was used for creating the numpy array used in the main training code"
   ]
  },
  {
   "cell_type": "code",
   "execution_count": 1,
   "metadata": {},
   "outputs": [
    {
     "name": "stderr",
     "output_type": "stream",
     "text": [
      "Using TensorFlow backend.\n",
      "/home/kousik/.local/lib/python3.6/site-packages/tensorflow/python/framework/dtypes.py:516: FutureWarning: Passing (type, 1) or '1type' as a synonym of type is deprecated; in a future version of numpy, it will be understood as (type, (1,)) / '(1,)type'.\n",
      "  _np_qint8 = np.dtype([(\"qint8\", np.int8, 1)])\n",
      "/home/kousik/.local/lib/python3.6/site-packages/tensorflow/python/framework/dtypes.py:517: FutureWarning: Passing (type, 1) or '1type' as a synonym of type is deprecated; in a future version of numpy, it will be understood as (type, (1,)) / '(1,)type'.\n",
      "  _np_quint8 = np.dtype([(\"quint8\", np.uint8, 1)])\n",
      "/home/kousik/.local/lib/python3.6/site-packages/tensorflow/python/framework/dtypes.py:518: FutureWarning: Passing (type, 1) or '1type' as a synonym of type is deprecated; in a future version of numpy, it will be understood as (type, (1,)) / '(1,)type'.\n",
      "  _np_qint16 = np.dtype([(\"qint16\", np.int16, 1)])\n",
      "/home/kousik/.local/lib/python3.6/site-packages/tensorflow/python/framework/dtypes.py:519: FutureWarning: Passing (type, 1) or '1type' as a synonym of type is deprecated; in a future version of numpy, it will be understood as (type, (1,)) / '(1,)type'.\n",
      "  _np_quint16 = np.dtype([(\"quint16\", np.uint16, 1)])\n",
      "/home/kousik/.local/lib/python3.6/site-packages/tensorflow/python/framework/dtypes.py:520: FutureWarning: Passing (type, 1) or '1type' as a synonym of type is deprecated; in a future version of numpy, it will be understood as (type, (1,)) / '(1,)type'.\n",
      "  _np_qint32 = np.dtype([(\"qint32\", np.int32, 1)])\n",
      "/home/kousik/.local/lib/python3.6/site-packages/tensorflow/python/framework/dtypes.py:525: FutureWarning: Passing (type, 1) or '1type' as a synonym of type is deprecated; in a future version of numpy, it will be understood as (type, (1,)) / '(1,)type'.\n",
      "  np_resource = np.dtype([(\"resource\", np.ubyte, 1)])\n",
      "/home/kousik/.local/lib/python3.6/site-packages/tensorboard/compat/tensorflow_stub/dtypes.py:541: FutureWarning: Passing (type, 1) or '1type' as a synonym of type is deprecated; in a future version of numpy, it will be understood as (type, (1,)) / '(1,)type'.\n",
      "  _np_qint8 = np.dtype([(\"qint8\", np.int8, 1)])\n",
      "/home/kousik/.local/lib/python3.6/site-packages/tensorboard/compat/tensorflow_stub/dtypes.py:542: FutureWarning: Passing (type, 1) or '1type' as a synonym of type is deprecated; in a future version of numpy, it will be understood as (type, (1,)) / '(1,)type'.\n",
      "  _np_quint8 = np.dtype([(\"quint8\", np.uint8, 1)])\n",
      "/home/kousik/.local/lib/python3.6/site-packages/tensorboard/compat/tensorflow_stub/dtypes.py:543: FutureWarning: Passing (type, 1) or '1type' as a synonym of type is deprecated; in a future version of numpy, it will be understood as (type, (1,)) / '(1,)type'.\n",
      "  _np_qint16 = np.dtype([(\"qint16\", np.int16, 1)])\n",
      "/home/kousik/.local/lib/python3.6/site-packages/tensorboard/compat/tensorflow_stub/dtypes.py:544: FutureWarning: Passing (type, 1) or '1type' as a synonym of type is deprecated; in a future version of numpy, it will be understood as (type, (1,)) / '(1,)type'.\n",
      "  _np_quint16 = np.dtype([(\"quint16\", np.uint16, 1)])\n",
      "/home/kousik/.local/lib/python3.6/site-packages/tensorboard/compat/tensorflow_stub/dtypes.py:545: FutureWarning: Passing (type, 1) or '1type' as a synonym of type is deprecated; in a future version of numpy, it will be understood as (type, (1,)) / '(1,)type'.\n",
      "  _np_qint32 = np.dtype([(\"qint32\", np.int32, 1)])\n",
      "/home/kousik/.local/lib/python3.6/site-packages/tensorboard/compat/tensorflow_stub/dtypes.py:550: FutureWarning: Passing (type, 1) or '1type' as a synonym of type is deprecated; in a future version of numpy, it will be understood as (type, (1,)) / '(1,)type'.\n",
      "  np_resource = np.dtype([(\"resource\", np.ubyte, 1)])\n"
     ]
    }
   ],
   "source": [
    "import PIL\n",
    "from PIL import Image\n",
    "import os\n",
    "import pandas as pd\n",
    "import numpy as np\n",
    "from tqdm import tqdm\n",
    "import keras\n",
    "from keras.models import Sequential\n",
    "from keras.layers import Dense, Dropout, Flatten\n",
    "from keras.layers import Conv2D, MaxPooling2D\n",
    "from keras.utils import to_categorical\n",
    "from keras.models import Sequential, Model, load_model\n",
    "from keras.layers import Input, Conv1D, Conv2D, MaxPooling1D, MaxPooling2D, Dense, Dropout, Activation, Flatten\n",
    "from keras.layers.normalization import BatchNormalization\n",
    "from keras.optimizers import SGD\n",
    "from keras.callbacks import ModelCheckpoint,ReduceLROnPlateau\n",
    "from keras import regularizers\n",
    "\n",
    "from keras.models import model_from_json\n",
    "from keras.utils import to_categorical\n",
    "from keras.preprocessing import image\n",
    "\n",
    "import matplotlib.pyplot as plt\n",
    "\n",
    "from keras.constraints import maxnorm\n",
    "from keras.optimizers import SGD\n",
    "from keras.layers import Activation\n",
    "from keras.layers.convolutional import Conv2D, MaxPooling2D, ZeroPadding2D\n",
    "from keras.layers.normalization import BatchNormalization\n",
    "from keras.initializers import glorot_normal\n",
    "from keras.utils import np_utils\n",
    "from keras.metrics import top_k_categorical_accuracy\n",
    "import tensorflow as tf"
   ]
  },
  {
   "cell_type": "code",
   "execution_count": 6,
   "metadata": {},
   "outputs": [],
   "source": [
    "def evaluate(model_path,dir_path):\n",
    "    folders=['tilia_americana', 'fraxinus_americana', 'abies_nordmanniana', 'pinus_rigida', 'celtis_tenuifolia', 'betula_alleghaniensis', 'acer_ginnala', 'liriodendron_tulipifera', 'ulmus_americana', 'pinus_koraiensis', 'catalpa_speciosa', 'pinus_sylvestris', 'quercus_bicolor', 'aesculus_hippocastamon', 'cryptomeria_japonica', 'morus_rubra', 'pinus_densiflora', 'larix_decidua', 'chamaecyparis_pisifera', 'pinus_parviflora', 'chionanthus_retusus', 'picea_orientalis', 'carya_cordiformis', 'quercus_velutina', 'malus_coronaria', 'quercus_phellos', 'eucommia_ulmoides', 'salix_babylonica', 'betula_nigra', 'acer_palmatum', 'prunus_yedoensis', 'quercus_imbricaria', 'aesculus_flava', 'magnolia_virginiana', 'cedrus_deodara', 'salix_matsudana', 'sassafras_albidum', 'magnolia_tripetala', 'magnolia_denudata', 'ginkgo_biloba', 'fagus_grandifolia', 'quercus_palustris', 'pinus_strobus', 'magnolia_macrophylla', 'ostrya_virginiana', 'tilia_europaea', 'betula_populifolia', 'picea_abies', 'pinus_bungeana', 'amelanchier_laevis', 'magnolia_stellata', 'pseudolarix_amabilis', 'quercus_marilandica', 'acer_pensylvanicum', 'acer_griseum', 'tilia_tomentosa', 'liquidambar_styraciflua', 'juglans_nigra', 'populus_deltoides', 'pinus_resinosa', 'prunus_serrulata', 'acer_negundo', 'carpinus_betulus', 'quercus_shumardii', 'fraxinus_pennsylvanica', 'zelkova_serrata', 'quercus_montana', 'pinus_taeda', 'evodia_daniellii', 'koelreuteria_paniculata', 'cedrus_atlantica', 'populus_grandidentata', 'acer_saccharum', 'salix_caroliniana', 'juglans_cinerea', 'carya_ovata', 'amelanchier_canadensis', 'platanus_acerifolia', 'paulownia_tomentosa', 'populus_tremuloides', 'ulmus_glabra', 'castanea_dentata', 'quercus_robur', 'syringa_reticulata', 'tilia_cordata', 'celtis_occidentalis', 'oxydendrum_arboreum', 'gleditsia_triacanthos', 'quercus_falcata', 'cornus_mas', 'toona_sinensis', 'chionanthus_virginicus', 'malus_hupehensis', 'tsuga_canadensis', 'prunus_virginiana', 'carya_tomentosa', 'picea_pungens', 'ilex_opaca', 'carya_glabra', 'pinus_thunbergii', 'quercus_alba', 'magnolia_acuminata', 'quercus_macrocarpa', 'pinus_peucea', 'magnolia_grandiflora', 'styrax_obassia', 'quercus_coccinea', 'carpinus_caroliniana', 'gymnocladus_dioicus', 'cornus_kousa', 'quercus_rubra', 'pinus_flexilis', 'aesculus_glabra', 'juniperus_virginiana', 'chamaecyparis_thyoides', 'salix_nigra', 'ulmus_parvifolia', 'acer_saccharinum', 'crataegus_viridis', 'prunus_sargentii', 'diospyros_virginiana', 'pyrus_calleryana', 'cedrus_libani', 'crataegus_laevigata', 'styrax_japonica', 'ulmus_procera', 'malus_angustifolia', 'prunus_pensylvanica', 'crataegus_crus-galli', 'cercis_canadensis', 'malus_pumila', 'pinus_cembra', 'acer_pseudoplatanus', 'broussonettia_papyrifera', 'amelanchier_arborea', 'maclura_pomifera', 'quercus_cerris', 'fraxinus_nigra', 'pinus_virginiana', 'nyssa_sylvatica', 'pinus_pungens', 'malus_baccata', 'magnolia_soulangiana', 'acer_rubrum', 'robinia_pseudo-acacia', 'asimina_triloba', 'cercidiphyllum_japonicum', 'betula_jacqemontii', 'metasequoia_glyptostroboides', 'ficus_carica', 'abies_concolor', 'pinus_wallichiana', 'quercus_nigra', 'quercus_michauxii', 'albizia_julibrissin', 'acer_campestre', 'quercus_muehlenbergii', 'platanus_occidentalis', 'quercus_virginiana', 'morus_alba', 'crataegus_pruinosa', 'taxodium_distichum', 'staphylea_trifolia', 'crataegus_phaenopyrum', 'pinus_nigra', 'betula_lenta', 'prunus_subhirtella', 'prunus_serotina', 'aesculus_pavi', 'ulmus_pumila', 'cornus_florida', 'ulmus_rubra', 'malus_floribunda', 'phellodendron_amurense', 'acer_platanoides', 'quercus_stellata', 'ailanthus_altissima', 'corylus_colurna', 'quercus_acutissima', 'ptelea_trifoliata', 'cladrastis_lutea', 'pinus_echinata', 'stewartia_pseudocamellia', 'halesia_tetraptera', 'catalpa_bignonioides']\n",
    "    folders.sort()\n",
    "    X=[]\n",
    "    file_names=[]\n",
    "    y=[]\n",
    "    size=(64,64)\n",
    "    for j in tqdm(range(len(folders))):\n",
    "        for (root,dirs,files) in os.walk(dir_path+folders[j]): \n",
    "\n",
    "            for i in files:\n",
    "                img=Image.open(dir_path+folders[j]+'/'+i)\n",
    "                img = img.resize(size, PIL.Image.ANTIALIAS)\n",
    "                X.append(np.asarray(img)/255.)\n",
    "                y.append(folders[j])\n",
    "                file_names.append(i)\n",
    "    X=np.array(X)\n",
    "    labels_df=pd.DataFrame({\"files\":file_names,\"labels\":y})\n",
    "    y_oh=np.array(pd.get_dummies(y))\n",
    "    model=load_model(model_path)\n",
    "    predictions = model.predict(X)\n",
    "\n",
    "    output = tf.keras.metrics.top_k_categorical_accuracy(y_oh, predictions, k=3)\n",
    "\n",
    "    with tf.Session() as sess:\n",
    "        result = sess.run(output)\n",
    "\n",
    "    \n",
    "    \n",
    "    print(\"Top 1 accuracy\", model.evaluate(X,y_oh)[1])\n",
    "    print(\"Top 3 accuracy\", result.sum()/len(result))\n",
    "    \n",
    "    \n",
    "    "
   ]
  },
  {
   "cell_type": "code",
   "execution_count": 7,
   "metadata": {},
   "outputs": [
    {
     "name": "stderr",
     "output_type": "stream",
     "text": [
      "100%|██████████| 185/185 [00:06<00:00, 27.80it/s]\n"
     ]
    },
    {
     "name": "stdout",
     "output_type": "stream",
     "text": [
      "WARNING:tensorflow:From /home/kousik/.local/lib/python3.6/site-packages/keras/backend/tensorflow_backend.py:4070: The name tf.nn.max_pool is deprecated. Please use tf.nn.max_pool2d instead.\n",
      "\n",
      "WARNING:tensorflow:Large dropout rate: 0.7 (>0.5). In TensorFlow 2.x, dropout() uses dropout rate instead of keep_prob. Please ensure that this is intended.\n",
      "WARNING:tensorflow:Large dropout rate: 0.7 (>0.5). In TensorFlow 2.x, dropout() uses dropout rate instead of keep_prob. Please ensure that this is intended.\n",
      "WARNING:tensorflow:From /home/kousik/.local/lib/python3.6/site-packages/keras/backend/tensorflow_backend.py:422: The name tf.global_variables is deprecated. Please use tf.compat.v1.global_variables instead.\n",
      "\n",
      "3090/3090 [==============================] - 4s 1ms/step\n",
      "Top 1 accuracy 0.9809061288833618\n",
      "Top 3 accuracy 0.998705501618123\n"
     ]
    }
   ],
   "source": [
    "evaluate(\"./model.h5\",\"../leaf_classification/dataset/test/\")"
   ]
  },
  {
   "cell_type": "markdown",
   "metadata": {},
   "source": [
    "# Dataset path should contain '/' at end like \"./dataset/test/\""
   ]
  },
  {
   "cell_type": "code",
   "execution_count": null,
   "metadata": {},
   "outputs": [],
   "source": []
  },
  {
   "cell_type": "code",
   "execution_count": null,
   "metadata": {},
   "outputs": [],
   "source": []
  }
 ],
 "metadata": {
  "kernelspec": {
   "display_name": "Python 3",
   "language": "python",
   "name": "python3"
  },
  "language_info": {
   "codemirror_mode": {
    "name": "ipython",
    "version": 3
   },
   "file_extension": ".py",
   "mimetype": "text/x-python",
   "name": "python",
   "nbconvert_exporter": "python",
   "pygments_lexer": "ipython3",
   "version": "3.6.8"
  }
 },
 "nbformat": 4,
 "nbformat_minor": 2
}
